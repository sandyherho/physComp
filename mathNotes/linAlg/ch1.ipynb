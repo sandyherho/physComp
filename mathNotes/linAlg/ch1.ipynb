{
 "cells": [
  {
   "cell_type": "markdown",
   "id": "f2bc1a3f",
   "metadata": {},
   "source": [
    "## Defining a vector"
   ]
  },
  {
   "cell_type": "code",
   "execution_count": 3,
   "id": "d6d389c5",
   "metadata": {},
   "outputs": [
    {
     "data": {
      "text/plain": [
       "array([1, 2, 3])"
      ]
     },
     "execution_count": 3,
     "metadata": {},
     "output_type": "execute_result"
    }
   ],
   "source": [
    "import numpy as np\n",
    "x = [1,2,3]\n",
    "vector = np.array(x)\n",
    "vector"
   ]
  },
  {
   "cell_type": "code",
   "execution_count": 4,
   "id": "b8b3dc1e",
   "metadata": {},
   "outputs": [
    {
     "data": {
      "text/plain": [
       "1"
      ]
     },
     "execution_count": 4,
     "metadata": {},
     "output_type": "execute_result"
    }
   ],
   "source": [
    "vector.ndim"
   ]
  },
  {
   "cell_type": "code",
   "execution_count": 5,
   "id": "e85ce384",
   "metadata": {},
   "outputs": [
    {
     "data": {
      "text/plain": [
       "(3,)"
      ]
     },
     "execution_count": 5,
     "metadata": {},
     "output_type": "execute_result"
    }
   ],
   "source": [
    "vector.shape"
   ]
  },
  {
   "cell_type": "markdown",
   "id": "707c745f",
   "metadata": {},
   "source": [
    "## Arithmetic operations on vectors"
   ]
  },
  {
   "cell_type": "code",
   "execution_count": 9,
   "id": "f7ff9d2c",
   "metadata": {},
   "outputs": [
    {
     "name": "stdout",
     "output_type": "stream",
     "text": [
      "[36 42 22 23 17]\n",
      "[26 54 45 43 73]\n",
      "[62 96 67 66 90]\n"
     ]
    }
   ],
   "source": [
    "a = np.random.randint(10,50, size=5)\n",
    "b = np.random.randint(25,75, size=5)\n",
    "\n",
    "print(a)\n",
    "print(b)\n",
    "c = a + b\n",
    "print(c)"
   ]
  },
  {
   "cell_type": "code",
   "execution_count": null,
   "id": "aca13bb7",
   "metadata": {},
   "outputs": [],
   "source": []
  }
 ],
 "metadata": {
  "kernelspec": {
   "display_name": "Python 3 (ipykernel)",
   "language": "python",
   "name": "python3"
  },
  "language_info": {
   "codemirror_mode": {
    "name": "ipython",
    "version": 3
   },
   "file_extension": ".py",
   "mimetype": "text/x-python",
   "name": "python",
   "nbconvert_exporter": "python",
   "pygments_lexer": "ipython3",
   "version": "3.8.12"
  }
 },
 "nbformat": 4,
 "nbformat_minor": 5
}
