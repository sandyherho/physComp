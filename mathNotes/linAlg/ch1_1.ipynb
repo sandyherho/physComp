{
 "cells": [
  {
   "cell_type": "markdown",
   "id": "f2bc1a3f",
   "metadata": {},
   "source": [
    "## Defining a vector"
   ]
  },
  {
   "cell_type": "code",
   "execution_count": 1,
   "id": "d6d389c5",
   "metadata": {},
   "outputs": [
    {
     "data": {
      "text/plain": [
       "array([1, 2, 3])"
      ]
     },
     "execution_count": 1,
     "metadata": {},
     "output_type": "execute_result"
    }
   ],
   "source": [
    "import numpy as np\n",
    "x = [1,2,3]\n",
    "vector = np.array(x)\n",
    "vector"
   ]
  },
  {
   "cell_type": "code",
   "execution_count": 2,
   "id": "b8b3dc1e",
   "metadata": {},
   "outputs": [
    {
     "data": {
      "text/plain": [
       "1"
      ]
     },
     "execution_count": 2,
     "metadata": {},
     "output_type": "execute_result"
    }
   ],
   "source": [
    "vector.ndim"
   ]
  },
  {
   "cell_type": "code",
   "execution_count": 3,
   "id": "e85ce384",
   "metadata": {},
   "outputs": [
    {
     "data": {
      "text/plain": [
       "(3,)"
      ]
     },
     "execution_count": 3,
     "metadata": {},
     "output_type": "execute_result"
    }
   ],
   "source": [
    "vector.shape"
   ]
  },
  {
   "cell_type": "markdown",
   "id": "707c745f",
   "metadata": {},
   "source": [
    "## Arithmetic operations on vectors"
   ]
  },
  {
   "cell_type": "code",
   "execution_count": 4,
   "id": "f7ff9d2c",
   "metadata": {},
   "outputs": [
    {
     "name": "stdout",
     "output_type": "stream",
     "text": [
      "[25 14 37 27 22]\n",
      "[57 52 69 45 72]\n",
      "[ 82  66 106  72  94]\n"
     ]
    }
   ],
   "source": [
    "a = np.random.randint(10,50, size=5)\n",
    "b = np.random.randint(25,75, size=5)\n",
    "\n",
    "print(a)\n",
    "print(b)\n",
    "c = a + b\n",
    "print(c)"
   ]
  },
  {
   "cell_type": "code",
   "execution_count": 5,
   "id": "aca13bb7",
   "metadata": {},
   "outputs": [
    {
     "name": "stdout",
     "output_type": "stream",
     "text": [
      "[31 30 33 16 37]\n",
      "[64 74 61 54 55]\n",
      "Difference:  [-33 -44 -28 -38 -18]\n"
     ]
    }
   ],
   "source": [
    "a = np.random.randint(10,50, size=5)\n",
    "b = np.random.randint(25,75, size=5)\n",
    "\n",
    "print(a)\n",
    "print(b)\n",
    "c = a - b\n",
    "print(\"Difference: \", c)"
   ]
  },
  {
   "cell_type": "code",
   "execution_count": 6,
   "id": "84a2090f",
   "metadata": {},
   "outputs": [
    {
     "name": "stdout",
     "output_type": "stream",
     "text": [
      "[25 38 14 32 30]\n",
      "[68 29 49 33 41]\n",
      "Multiplication:  [1700 1102  686 1056 1230]\n"
     ]
    }
   ],
   "source": [
    "a = np.random.randint(10,50, size=5)\n",
    "b = np.random.randint(25,75, size=5)\n",
    "\n",
    "print(a)\n",
    "print(b)\n",
    "c = a * b\n",
    "print(\"Multiplication: \", c)"
   ]
  },
  {
   "cell_type": "code",
   "execution_count": 7,
   "id": "33e80a0b",
   "metadata": {},
   "outputs": [
    {
     "name": "stdout",
     "output_type": "stream",
     "text": [
      "[21 10 40 19 36]\n",
      "[64 49 40 70 25]\n",
      "Division:  [0.328125   0.20408163 1.         0.27142857 1.44      ]\n"
     ]
    }
   ],
   "source": [
    "a = np.random.randint(10,50, size=5)\n",
    "b = np.random.randint(25,75, size=5)\n",
    "\n",
    "print(a)\n",
    "print(b)\n",
    "c = a / b\n",
    "print(\"Division: \", c)"
   ]
  },
  {
   "cell_type": "markdown",
   "id": "fba40bb0",
   "metadata": {},
   "source": [
    "## Dot product"
   ]
  },
  {
   "cell_type": "code",
   "execution_count": 9,
   "id": "31bfe197",
   "metadata": {},
   "outputs": [
    {
     "name": "stdout",
     "output_type": "stream",
     "text": [
      "[49 29 23 16 48]\n",
      "[73 55 31 37 67]\n"
     ]
    }
   ],
   "source": [
    "a = np.random.randint(10,50, size=5)\n",
    "b = np.random.randint(25,75, size=5)\n",
    "\n",
    "print(a)\n",
    "print(b)"
   ]
  },
  {
   "cell_type": "code",
   "execution_count": 11,
   "id": "11cb9faf",
   "metadata": {},
   "outputs": [
    {
     "data": {
      "text/plain": [
       "9693"
      ]
     },
     "execution_count": 11,
     "metadata": {},
     "output_type": "execute_result"
    }
   ],
   "source": [
    "vector_dot = a.dot(b)\n",
    "vector_dot"
   ]
  },
  {
   "cell_type": "code",
   "execution_count": 14,
   "id": "ab87ac65",
   "metadata": {},
   "outputs": [
    {
     "name": "stdout",
     "output_type": "stream",
     "text": [
      "[5 6 7 8 9]\n",
      "[0 1 2 3 4]\n",
      "dot product:  80\n"
     ]
    }
   ],
   "source": [
    "x = np.arange(5,10)\n",
    "y = np.arange(5)\n",
    "\n",
    "print(x)\n",
    "print(y)\n",
    "\n",
    "vector_dot = x.dot(y)\n",
    "print(\"dot product: \", vector_dot)"
   ]
  },
  {
   "cell_type": "markdown",
   "id": "2fe2cfa1",
   "metadata": {},
   "source": [
    "## Vector scalar multiplication"
   ]
  },
  {
   "cell_type": "code",
   "execution_count": 15,
   "id": "bb80a639",
   "metadata": {},
   "outputs": [],
   "source": [
    "x = np.arange(5,10)"
   ]
  },
  {
   "cell_type": "code",
   "execution_count": 17,
   "id": "89b6c5db",
   "metadata": {},
   "outputs": [
    {
     "name": "stdout",
     "output_type": "stream",
     "text": [
      "vector scalar multiplication:  [15 18 21 24 27]\n"
     ]
    }
   ],
   "source": [
    "vs = 3 * x\n",
    "print(\"vector scalar multiplication: \", vs)"
   ]
  },
  {
   "cell_type": "code",
   "execution_count": 18,
   "id": "a45fd5d8",
   "metadata": {},
   "outputs": [
    {
     "data": {
      "text/plain": [
       "array([5, 6, 7, 8, 9])"
      ]
     },
     "execution_count": 18,
     "metadata": {},
     "output_type": "execute_result"
    }
   ],
   "source": [
    "x"
   ]
  }
 ],
 "metadata": {
  "kernelspec": {
   "display_name": "Python 3 (ipykernel)",
   "language": "python",
   "name": "python3"
  },
  "language_info": {
   "codemirror_mode": {
    "name": "ipython",
    "version": 3
   },
   "file_extension": ".py",
   "mimetype": "text/x-python",
   "name": "python",
   "nbconvert_exporter": "python",
   "pygments_lexer": "ipython3",
   "version": "3.8.13"
  }
 },
 "nbformat": 4,
 "nbformat_minor": 5
}
