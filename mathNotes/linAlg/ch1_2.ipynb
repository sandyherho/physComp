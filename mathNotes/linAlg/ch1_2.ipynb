{
 "cells": [
  {
   "cell_type": "markdown",
   "id": "147a947a",
   "metadata": {},
   "source": [
    "# Vector norm - Finding the length of the vector"
   ]
  },
  {
   "cell_type": "markdown",
   "id": "c9fe06d7",
   "metadata": {},
   "source": [
    "## Many ways of finding the length of the vector"
   ]
  },
  {
   "cell_type": "markdown",
   "id": "ca574036",
   "metadata": {},
   "source": [
    "* L1 Norm -> Lasso Regression (a.k.a Taxicab norm or Manhattan norm)\n",
    "* L2 Norm -> Ridge Regression (a.k.a Eucledian norm)\n",
    "* D-norm\n",
    "* vector max norm"
   ]
  },
  {
   "cell_type": "markdown",
   "id": "02daef4a",
   "metadata": {},
   "source": [
    "## L2 Norm"
   ]
  },
  {
   "cell_type": "markdown",
   "id": "7a50c458",
   "metadata": {},
   "source": [
    "$$||\\mathbf{x}||_2 = \\left(\\sum_{i=1}^{N}|x_i |^{2} \\right)^{1/2} = \\sqrt{x_{1}^{2} + x_{2}^{2} + \\cdots + x_{N}^{2} }$$"
   ]
  },
  {
   "cell_type": "code",
   "execution_count": 1,
   "id": "1c368008",
   "metadata": {},
   "outputs": [],
   "source": [
    "import numpy as np"
   ]
  },
  {
   "cell_type": "code",
   "execution_count": 2,
   "id": "67c7b84c",
   "metadata": {},
   "outputs": [],
   "source": [
    "x = np.array([2, 3, 5])\n",
    "y = np.array([3, 4])"
   ]
  },
  {
   "cell_type": "code",
   "execution_count": 3,
   "id": "259437d5",
   "metadata": {},
   "outputs": [],
   "source": [
    "from numpy.linalg import norm"
   ]
  },
  {
   "cell_type": "code",
   "execution_count": 5,
   "id": "d93d3c66",
   "metadata": {},
   "outputs": [
    {
     "data": {
      "text/plain": [
       "5.0"
      ]
     },
     "execution_count": 5,
     "metadata": {},
     "output_type": "execute_result"
    }
   ],
   "source": [
    "len_y = norm(y)\n",
    "len_y"
   ]
  },
  {
   "cell_type": "code",
   "execution_count": 7,
   "id": "7c228c17",
   "metadata": {},
   "outputs": [
    {
     "data": {
      "text/plain": [
       "6.164414002968976"
      ]
     },
     "execution_count": 7,
     "metadata": {},
     "output_type": "execute_result"
    }
   ],
   "source": [
    "len_x = norm(x)\n",
    "len_x"
   ]
  },
  {
   "cell_type": "markdown",
   "id": "f445a1eb",
   "metadata": {},
   "source": [
    "[-1 2 4 -2]"
   ]
  },
  {
   "cell_type": "code",
   "execution_count": 9,
   "id": "234ff350",
   "metadata": {},
   "outputs": [
    {
     "data": {
      "text/plain": [
       "9.0"
      ]
     },
     "execution_count": 9,
     "metadata": {},
     "output_type": "execute_result"
    }
   ],
   "source": [
    "x = np.array([-1, 2, 4, -2])\n",
    "l1_norm = norm(x, ord = 1)\n",
    "l1_norm"
   ]
  },
  {
   "cell_type": "markdown",
   "id": "0631c0bf",
   "metadata": {},
   "source": [
    "$$||\\mathbf{x}||_p := \\left(\\sum_{i=1}^{n}|x_i |^{p} \\right)^{1/p} $$"
   ]
  },
  {
   "cell_type": "code",
   "execution_count": 10,
   "id": "fd0d9ff6",
   "metadata": {},
   "outputs": [],
   "source": [
    "z = [1, 2, -4, -5]\n"
   ]
  },
  {
   "cell_type": "code",
   "execution_count": null,
   "id": "895d8bfc",
   "metadata": {},
   "outputs": [],
   "source": []
  }
 ],
 "metadata": {
  "kernelspec": {
   "display_name": "Python 3 (ipykernel)",
   "language": "python",
   "name": "python3"
  },
  "language_info": {
   "codemirror_mode": {
    "name": "ipython",
    "version": 3
   },
   "file_extension": ".py",
   "mimetype": "text/x-python",
   "name": "python",
   "nbconvert_exporter": "python",
   "pygments_lexer": "ipython3",
   "version": "3.8.13"
  }
 },
 "nbformat": 4,
 "nbformat_minor": 5
}
