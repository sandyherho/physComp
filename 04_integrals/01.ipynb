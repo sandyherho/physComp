{
 "cells": [
  {
   "cell_type": "markdown",
   "id": "834d94d7",
   "metadata": {},
   "source": [
    "# Integration Methods"
   ]
  },
  {
   "cell_type": "code",
   "execution_count": 1,
   "id": "e5916ec7",
   "metadata": {},
   "outputs": [],
   "source": [
    "import numpy as np\n",
    "import matplotlib.pyplot as plt\n",
    "\n",
    "plt.rcParams['figure.figsize'] = [15, 6]\n",
    "plt.style.use('ggplot')"
   ]
  },
  {
   "cell_type": "markdown",
   "id": "9bd111b8",
   "metadata": {},
   "source": [
    "![Integral](figure_05_integral.png)"
   ]
  },
  {
   "cell_type": "markdown",
   "id": "595dd97a",
   "metadata": {},
   "source": [
    "## Define and plot function"
   ]
  },
  {
   "cell_type": "code",
   "execution_count": 2,
   "id": "fb828c29",
   "metadata": {},
   "outputs": [],
   "source": [
    "def func(x):\n",
    "    return 0.5 + 0.1*x + 0.2*x**2 + 0.03*x**3 "
   ]
  },
  {
   "cell_type": "code",
   "execution_count": 3,
   "id": "b900e48e",
   "metadata": {},
   "outputs": [
    {
     "data": {
      "image/png": "[encoded data removed]",
      "text/plain": [
       "<Figure size 1080x432 with 1 Axes>"
      ]
     },
     "metadata": {},
     "output_type": "display_data"
    }
   ],
   "source": [
    "x_list = np.linspace(-3.5, 3.5, 71)\n",
    "\n",
    "plt.plot(x_list, func(x_list));"
   ]
  },
  {
   "cell_type": "markdown",
   "id": "f4202bcd",
   "metadata": {},
   "source": [
    "## Analytical solution"
   ]
  },
  {
   "cell_type": "markdown",
   "id": "3ed326e2",
   "metadata": {},
   "source": [
    "\\\\( f(x) = \\frac{1}{2} + \\frac{1}{10}x + \\frac{1}{5}x^2 + \\frac{3}{100}x^3 \\\\)\n",
    "\n",
    "\\\\( A = \\int_{-3}^3 f(x)\\,\\mathrm{d}x = \\int_{-3}^3\\left(\\frac{1}{2} + \\frac{1}{10}x + \\frac{1}{5}x^2 + \\frac{3}{100}x^3\\right)\\,\\mathrm{d}x = \\left[\\frac{1}{2}x + \\frac{1}{20}x^2 + \\frac{1}{15}x^3 + \\frac{3}{400}x^4\\right]_{-3}^3\\\\)"
   ]
  },
  {
   "cell_type": "code",
   "execution_count": 4,
   "id": "fdde76f7",
   "metadata": {},
   "outputs": [
    {
     "data": {
      "text/plain": [
       "6.6"
      ]
     },
     "execution_count": 4,
     "metadata": {},
     "output_type": "execute_result"
    }
   ],
   "source": [
    "( 1/2*(3) + 1/20*(3)**2 + 1/15*(3)**3 + 3/400*(3)**4 ) - ( 1/2*(-3) + 1/20*(-3)**2 + 1/15*(-3)**3 + 3/400*(-3)**4 )"
   ]
  },
  {
   "cell_type": "markdown",
   "id": "d4aeb9c2",
   "metadata": {},
   "source": [
    "## Create data"
   ]
  },
  {
   "cell_type": "code",
   "execution_count": 5,
   "id": "c4a99592",
   "metadata": {},
   "outputs": [],
   "source": [
    "x_points = np.linspace(-3,3,13)\n",
    "data = np.array([x_points, func(x_points)])"
   ]
  },
  {
   "cell_type": "code",
   "execution_count": 6,
   "id": "86237df1",
   "metadata": {},
   "outputs": [
    {
     "data": {
      "image/png": "[encoded data removed]",
      "text/plain": [
       "<Figure size 1080x432 with 1 Axes>"
      ]
     },
     "metadata": {},
     "output_type": "display_data"
    }
   ],
   "source": [
    "plt.scatter(data[0], data[1]);"
   ]
  },
  {
   "cell_type": "markdown",
   "id": "a52151a4",
   "metadata": {},
   "source": [
    "## 1. Sum"
   ]
  },
  {
   "cell_type": "markdown",
   "id": "d0838d91",
   "metadata": {},
   "source": [
    "\\\\( A = \\int_{a}^b f(x)\\,\\mathrm{d}x \\approx \\frac{b-a}{n-1}\\sum_{i=1}^n f(x_i)\\\\)\n",
    "\n",
    "Edges are problematic, as they are overrepresented. Furthermore, this only really works if the data is equidistant."
   ]
  },
  {
   "cell_type": "code",
   "execution_count": 7,
   "id": "d88a53b8",
   "metadata": {},
   "outputs": [],
   "source": [
    "def integralSum(data):\n",
    "    return np.sum(data[1]) * (data[0,-1] - data[0,0]) /( len(data[1]) - 1 )"
   ]
  },
  {
   "cell_type": "code",
   "execution_count": 8,
   "id": "670754b9",
   "metadata": {},
   "outputs": [
    {
     "data": {
      "text/plain": [
       "7.800000000000001"
      ]
     },
     "execution_count": 8,
     "metadata": {},
     "output_type": "execute_result"
    }
   ],
   "source": [
    "integralSum(data)"
   ]
  },
  {
   "cell_type": "markdown",
   "id": "302b6793",
   "metadata": {},
   "source": [
    "## 2. Trapezoidal method "
   ]
  },
  {
   "cell_type": "markdown",
   "id": "fe2468bd",
   "metadata": {},
   "source": [
    "Corresponds to integrating a linear spline through the data points. It is now possible to properly deal with non-equidistant data.\n",
    "\n",
    "\\\\( A = \\int_{a}^b f(x)\\,\\mathrm{d}x \\approx \\sum_{i=1}^{n-1} \\frac{f(x_{i+1})+f(x_{i})}{2}(x_{i+1}-x_i)\\\\)"
   ]
  },
  {
   "cell_type": "code",
   "execution_count": 10,
   "id": "19e16af2",
   "metadata": {},
   "outputs": [],
   "source": [
    "def integralTrapezoidal(data):\n",
    "    a = 0\n",
    "    for i in range(len(data[0]) - 1):\n",
    "        a = a + (data[1, i + 1] + data[1,i]) / 2 * (data[0, i + 1] - data[0, i]) \n",
    "    return a        "
   ]
  },
  {
   "cell_type": "code",
   "execution_count": 11,
   "id": "a912c22d",
   "metadata": {},
   "outputs": [
    {
     "data": {
      "text/plain": [
       "6.650000000000001"
      ]
     },
     "execution_count": 11,
     "metadata": {},
     "output_type": "execute_result"
    }
   ],
   "source": [
    "integralTrapezoidal(data)"
   ]
  },
  {
   "cell_type": "markdown",
   "id": "eaabeb20",
   "metadata": {},
   "source": [
    "For equidistant data this simplfies to \n",
    "\n",
    "\\\\( A \\approx \\frac{b-a}{n-1}\\left[\\frac{1}{2}f(x_1) + \\sum_{i=2}^{n-1} f(x_i) + \\frac{1}{2}f(x_n)\\right] \\\\)\n",
    "\n",
    "Therefore the edge issue is resolved."
   ]
  },
  {
   "cell_type": "code",
   "execution_count": 12,
   "id": "8feaac4e",
   "metadata": {},
   "outputs": [],
   "source": [
    "def integralSum(data):\n",
    "    return np.sum(data[1]) * (data[0,-1] - data[0,0]) /( len(data[1]) - 1 )"
   ]
  },
  {
   "cell_type": "code",
   "execution_count": null,
   "id": "e7653311",
   "metadata": {},
   "outputs": [],
   "source": []
  }
 ],
 "metadata": {
  "kernelspec": {
   "display_name": "Python 3 (ipykernel)",
   "language": "python",
   "name": "python3"
  },
  "language_info": {
   "codemirror_mode": {
    "name": "ipython",
    "version": 3
   },
   "file_extension": ".py",
   "mimetype": "text/x-python",
   "name": "python",
   "nbconvert_exporter": "python",
   "pygments_lexer": "ipython3",
   "version": "3.8.12"
  }
 },
 "nbformat": 4,
 "nbformat_minor": 5
}
