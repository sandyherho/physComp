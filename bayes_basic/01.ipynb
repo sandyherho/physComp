{
 "cells": [
  {
   "cell_type": "markdown",
   "id": "8be16c4d",
   "metadata": {},
   "source": [
    "# Ex 1. Poxy disease"
   ]
  },
  {
   "cell_type": "markdown",
   "id": "7453a751",
   "metadata": {},
   "source": [
    "## code 1"
   ]
  },
  {
   "cell_type": "markdown",
   "id": "171d9457",
   "metadata": {},
   "source": [
    "* likelihood: probability of spots given smallpox $\\rightarrow P(\\text{spots}| \\text{smallpox})$"
   ]
  },
  {
   "cell_type": "code",
   "execution_count": 1,
   "id": "430a440e",
   "metadata": {},
   "outputs": [],
   "source": [
    "pSpotsGSmallpox = 0.9"
   ]
  },
  {
   "cell_type": "markdown",
   "id": "7693cbc8",
   "metadata": {},
   "source": [
    "* prior : probability of smallpox $\\rightarrow P(\\text{smallpox})$"
   ]
  },
  {
   "cell_type": "code",
   "execution_count": 2,
   "id": "41dc8237",
   "metadata": {},
   "outputs": [],
   "source": [
    "pSmallpox = 0.001"
   ]
  },
  {
   "cell_type": "markdown",
   "id": "740f30a5",
   "metadata": {},
   "source": [
    "* marginal likelihood: probability of spots $\\rightarrow P(\\text{spots})$"
   ]
  },
  {
   "cell_type": "code",
   "execution_count": 3,
   "id": "fdf59029",
   "metadata": {},
   "outputs": [],
   "source": [
    "pSpots = 0.081"
   ]
  },
  {
   "cell_type": "markdown",
   "id": "214efc1f",
   "metadata": {},
   "source": [
    "* find posterior:\n",
    "$$\n",
    "P(\\text{smallpox} | \\text{spots}) = \\frac{P(\\text{spots|smallpox}) \\times P(\\text{smallpox})} {P(\\text{spots})}\n",
    "$$"
   ]
  },
  {
   "cell_type": "code",
   "execution_count": 4,
   "id": "1069c1b8",
   "metadata": {},
   "outputs": [
    {
     "data": {
      "text/plain": [
       "0.011111111111111112"
      ]
     },
     "execution_count": 4,
     "metadata": {},
     "output_type": "execute_result"
    }
   ],
   "source": [
    "pSmallpoxGSpots = pSpotsGSmallpox * pSmallpox / pSpots\n",
    "pSmallpoxGSpots"
   ]
  },
  {
   "cell_type": "markdown",
   "id": "0de9a534",
   "metadata": {},
   "source": [
    "## code 2"
   ]
  },
  {
   "cell_type": "code",
   "execution_count": 5,
   "id": "963e0495",
   "metadata": {},
   "outputs": [
    {
     "data": {
      "text/plain": [
       "0.9876543209876545"
      ]
     },
     "execution_count": 5,
     "metadata": {},
     "output_type": "execute_result"
    }
   ],
   "source": [
    "# likelihood: prob of spots given chickenpox\n",
    "pSpotsChickenpox = 0.8\n",
    "\n",
    "# prior: pob of chickenpox\n",
    "pChickenpox = 0.1\n",
    "\n",
    "# marginal likelihood: prob of spots\n",
    "pSpots = 0.081\n",
    "\n",
    "# find posterior: prob of chickenpox given spots\n",
    "\n",
    "pChickenpoxGSpots = pSpotsChickenpox * pChickenpox / pSpots\n",
    "\n",
    "pChickenpoxGSpots"
   ]
  },
  {
   "cell_type": "markdown",
   "id": "f9ebd19e",
   "metadata": {},
   "source": [
    "## Formalism"
   ]
  },
  {
   "cell_type": "markdown",
   "id": "41f74180",
   "metadata": {},
   "source": [
    "* $x$: data\n",
    "* $\\theta$: hypothesis\n",
    "* likelihood : $P(x|\\theta)$\n",
    "* prior: $P(\\theta)$\n",
    "* marginal likelihood (evidence): $P(x)$\n",
    "* posterior: $P(\\theta|x)$"
   ]
  },
  {
   "cell_type": "markdown",
   "id": "ad67bcd2",
   "metadata": {},
   "source": [
    "$$\n",
    "P(\\theta|x) = \\frac{P(x|\\theta) P(\\theta)}{P(x)}\n",
    "$$"
   ]
  },
  {
   "cell_type": "markdown",
   "id": "5015a94c",
   "metadata": {},
   "source": [
    "## Model selection"
   ]
  },
  {
   "cell_type": "markdown",
   "id": "44b5bca8",
   "metadata": {},
   "source": [
    "$$R_{post} = \\frac{P(\\theta_{c} | x)}{P(\\theta_{s} | x)}$$\n",
    "\n",
    "$$R_{post} = \\frac{P(x|\\theta_{c})}{P(x|\\theta_{s})} \\times \\frac{P(\\theta_{c})}{P(\\theta_{s})}$$\n",
    "\n",
    "$$R_{post} = B \\times R_{prior}$$"
   ]
  },
  {
   "cell_type": "markdown",
   "id": "341ac5c0",
   "metadata": {},
   "source": [
    "* $R_{post}$: posterior odds\n",
    "* $R_{prior}$: prior odds\n",
    "* $B$: Bayes factor"
   ]
  },
  {
   "cell_type": "code",
   "execution_count": 6,
   "id": "2b0a9489",
   "metadata": {},
   "outputs": [
    {
     "data": {
      "text/plain": [
       "88.8888888888889"
      ]
     },
     "execution_count": 6,
     "metadata": {},
     "output_type": "execute_result"
    }
   ],
   "source": [
    "pSpotsGSmallpox = 0.9\n",
    "pSmallpox = 0.001\n",
    "pSpotsGChickenpox = 0.8\n",
    "pChickenpox = 0.1\n",
    "\n",
    "Rpost = (pSpotsChickenpox / pSpotsGSmallpox) * (pChickenpox / pSmallpox)\n",
    "Rpost"
   ]
  },
  {
   "cell_type": "markdown",
   "id": "fdf77f47",
   "metadata": {},
   "source": [
    "Jayness and Bretthorst (2003): Rpost > 3 and Rpost < 1/3 represents a substantial difference between two hypothesis.  "
   ]
  },
  {
   "cell_type": "markdown",
   "id": "66dca2f3",
   "metadata": {},
   "source": [
    "# Ex2. Four candles"
   ]
  },
  {
   "cell_type": "code",
   "execution_count": 11,
   "id": "9232214a",
   "metadata": {},
   "outputs": [],
   "source": [
    "pData = .61\n",
    "\n",
    "pDataGFourCandles = .6\n",
    "pFourCandles = .9\n",
    "pDataGForkHandles = .7\n",
    "pForkHandles = .1\n",
    "\n",
    "pFourCandlesGData = pDataGFourCandles * pFourCandles / pData\n",
    "pForkHandlesGData = pDataGForkHandles * pForkHandles / pData\n"
   ]
  },
  {
   "cell_type": "code",
   "execution_count": 12,
   "id": "4314bf13",
   "metadata": {},
   "outputs": [
    {
     "data": {
      "text/plain": [
       "0.9"
      ]
     },
     "execution_count": 12,
     "metadata": {},
     "output_type": "execute_result"
    }
   ],
   "source": [
    "pFourCandles"
   ]
  },
  {
   "cell_type": "code",
   "execution_count": 13,
   "id": "f8d43a2c",
   "metadata": {},
   "outputs": [
    {
     "data": {
      "text/plain": [
       "0.1"
      ]
     },
     "execution_count": 13,
     "metadata": {},
     "output_type": "execute_result"
    }
   ],
   "source": [
    "pForkHandles"
   ]
  },
  {
   "cell_type": "code",
   "execution_count": null,
   "id": "2e0fede0",
   "metadata": {},
   "outputs": [],
   "source": []
  }
 ],
 "metadata": {
  "kernelspec": {
   "display_name": "Python 3 (ipykernel)",
   "language": "python",
   "name": "python3"
  },
  "language_info": {
   "codemirror_mode": {
    "name": "ipython",
    "version": 3
   },
   "file_extension": ".py",
   "mimetype": "text/x-python",
   "name": "python",
   "nbconvert_exporter": "python",
   "pygments_lexer": "ipython3",
   "version": "3.8.12"
  }
 },
 "nbformat": 4,
 "nbformat_minor": 5
}
