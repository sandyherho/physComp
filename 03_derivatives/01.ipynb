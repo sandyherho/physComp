{
 "cells": [
  {
   "cell_type": "markdown",
   "id": "28655fcc",
   "metadata": {},
   "source": [
    "# Mathematical definition of derivatives"
   ]
  },
  {
   "cell_type": "markdown",
   "id": "12cfb8ee",
   "metadata": {},
   "source": [
    "![Derivative](figure_04_derivatives.png)"
   ]
  },
  {
   "cell_type": "markdown",
   "id": "01c0e73f",
   "metadata": {},
   "source": [
    "\\\\( f'(x)=\\lim_{h\\rightarrow 0}\\frac{f(x+h)-f(x)}{h}\\\\)\n",
    "\n",
    "\\\\( f'(x)=\\lim_{h\\rightarrow 0}\\frac{f(x)-f(x-h)}{h}\\\\)\n",
    "\n",
    "\\\\( f'(x)=\\lim_{h\\rightarrow 0}\\frac{f(x+h)-f(x-h)}{2h}\\\\)"
   ]
  },
  {
   "cell_type": "markdown",
   "id": "3a14d884",
   "metadata": {},
   "source": [
    "All three definitions are equivalent in case of a continuous function."
   ]
  },
  {
   "cell_type": "markdown",
   "id": "3ff44ed3",
   "metadata": {},
   "source": [
    "# Numerical implementation of first-order derivatives"
   ]
  },
  {
   "cell_type": "markdown",
   "id": "fe7c7d9d",
   "metadata": {},
   "source": [
    "Forward differences\n",
    "\\\\( f'(x_n)\\approx\\frac{f(x_{n+1})-f(x_n)}{x_{n+1}-x_n}\\\\)\n",
    "\n",
    "Backward differences\n",
    "\\\\( f'(x)\\approx\\frac{f(x_n)-f(x_{n-1})}{x_n-x_{n-1}}\\\\)\n",
    "\n",
    "Central differences\n",
    "\\\\( f'(x)\\approx\\frac{f(x_{n+1})-f(x_{n-1})}{x_{n+1}-x_{n-1}}\\\\)"
   ]
  },
  {
   "cell_type": "code",
   "execution_count": null,
   "id": "377d3980",
   "metadata": {},
   "outputs": [],
   "source": []
  }
 ],
 "metadata": {
  "kernelspec": {
   "display_name": "Python 3 (ipykernel)",
   "language": "python",
   "name": "python3"
  },
  "language_info": {
   "codemirror_mode": {
    "name": "ipython",
    "version": 3
   },
   "file_extension": ".py",
   "mimetype": "text/x-python",
   "name": "python",
   "nbconvert_exporter": "python",
   "pygments_lexer": "ipython3",
   "version": "3.8.12"
  }
 },
 "nbformat": 4,
 "nbformat_minor": 5
}
