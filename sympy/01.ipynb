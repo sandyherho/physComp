{
 "cells": [
  {
   "cell_type": "markdown",
   "id": "b9f807b1",
   "metadata": {},
   "source": [
    "# Basic usage"
   ]
  },
  {
   "cell_type": "code",
   "execution_count": 1,
   "id": "a3aa0915",
   "metadata": {},
   "outputs": [],
   "source": [
    "import sympy as smp\n",
    "import numpy as np\n",
    "import matplotlib.pyplot as plt\n",
    "\n",
    "plt.style.use('ggplot')"
   ]
  },
  {
   "cell_type": "markdown",
   "id": "e57abd49",
   "metadata": {},
   "source": [
    "Symbols can be defined as follows:"
   ]
  },
  {
   "cell_type": "code",
   "execution_count": 2,
   "id": "eb211e9f",
   "metadata": {},
   "outputs": [],
   "source": [
    "x = smp.symbols('x')"
   ]
  },
  {
   "cell_type": "markdown",
   "id": "fed99b7a",
   "metadata": {},
   "source": [
    "You can then use various mathematical operators on the defined symbols"
   ]
  },
  {
   "cell_type": "code",
   "execution_count": 3,
   "id": "4e761950",
   "metadata": {},
   "outputs": [
    {
     "data": {
      "text/latex": [
       "$\\displaystyle x^{2}$"
      ],
      "text/plain": [
       "x**2"
      ]
     },
     "execution_count": 3,
     "metadata": {},
     "output_type": "execute_result"
    }
   ],
   "source": [
    "x**2"
   ]
  },
  {
   "cell_type": "code",
   "execution_count": 4,
   "id": "0285a9c1",
   "metadata": {},
   "outputs": [
    {
     "data": {
      "text/latex": [
       "$\\displaystyle \\sin{\\left(x \\right)}$"
      ],
      "text/plain": [
       "sin(x)"
      ]
     },
     "execution_count": 4,
     "metadata": {},
     "output_type": "execute_result"
    }
   ],
   "source": [
    "smp.sin(x)"
   ]
  },
  {
   "cell_type": "markdown",
   "id": "08c9c7b5",
   "metadata": {},
   "source": [
    "There are many many functions built into sympy "
   ]
  },
  {
   "cell_type": "code",
   "execution_count": 5,
   "id": "8a5ff7b0",
   "metadata": {},
   "outputs": [],
   "source": [
    "# smp. # press tab to autocomplete and see all functions"
   ]
  },
  {
   "cell_type": "markdown",
   "id": "9c48ed4a",
   "metadata": {},
   "source": [
    "Can save expressions in new variables"
   ]
  },
  {
   "cell_type": "code",
   "execution_count": 7,
   "id": "5ebebe73",
   "metadata": {},
   "outputs": [
    {
     "data": {
      "text/latex": [
       "$\\displaystyle x^{2} + 4 x + 3$"
      ],
      "text/plain": [
       "x**2 + 4*x + 3"
      ]
     },
     "execution_count": 7,
     "metadata": {},
     "output_type": "execute_result"
    }
   ],
   "source": [
    "y = x**2 + 4*x + 3\n",
    "y"
   ]
  },
  {
   "cell_type": "markdown",
   "id": "93e2f2e2",
   "metadata": {},
   "source": [
    "Do perations on the new variables:"
   ]
  },
  {
   "cell_type": "code",
   "execution_count": 8,
   "id": "e0068e33",
   "metadata": {},
   "outputs": [
    {
     "data": {
      "text/latex": [
       "$\\displaystyle \\left(x^{2} + 4 x + 3\\right)^{2}$"
      ],
      "text/plain": [
       "(x**2 + 4*x + 3)**2"
      ]
     },
     "execution_count": 8,
     "metadata": {},
     "output_type": "execute_result"
    }
   ],
   "source": [
    "z = y**2\n",
    "z"
   ]
  },
  {
   "cell_type": "markdown",
   "id": "ad31abc0",
   "metadata": {},
   "source": [
    "Note that doesn't expand."
   ]
  },
  {
   "cell_type": "code",
   "execution_count": null,
   "id": "c90a892b",
   "metadata": {},
   "outputs": [],
   "source": []
  }
 ],
 "metadata": {
  "kernelspec": {
   "display_name": "Python 3 (ipykernel)",
   "language": "python",
   "name": "python3"
  },
  "language_info": {
   "codemirror_mode": {
    "name": "ipython",
    "version": 3
   },
   "file_extension": ".py",
   "mimetype": "text/x-python",
   "name": "python",
   "nbconvert_exporter": "python",
   "pygments_lexer": "ipython3",
   "version": "3.8.12"
  }
 },
 "nbformat": 4,
 "nbformat_minor": 5
}
